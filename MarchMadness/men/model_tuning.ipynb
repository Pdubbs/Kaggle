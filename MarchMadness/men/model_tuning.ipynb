{
 "cells": [
  {
   "cell_type": "code",
   "execution_count": null,
   "metadata": {},
   "outputs": [],
   "source": [
    "import numpy as np\n",
    "import pandas as pd\n",
    "from sklearn.linear_model import LinearRegression\n",
    "from sklearn.model_selection import GridSearchCV\n",
    "from sklearn.model_selection import KFold\n",
    "from sklearn.metrics import log_loss\n",
    "from sklearn.metrics import r2_score\n",
    "from sklearn.utils import resample \n",
    "from numpy.random import seed\n",
    "import warnings; warnings.simplefilter('ignore')\n",
    "import importlib\n",
    "pd.set_option(\"display.max_columns\",999)"
   ]
  },
  {
   "cell_type": "code",
   "execution_count": null,
   "metadata": {},
   "outputs": [],
   "source": [
    "import bball_functions\n",
    "importlib.reload(bball_functions)"
   ]
  },
  {
   "cell_type": "code",
   "execution_count": null,
   "metadata": {},
   "outputs": [],
   "source": [
    "data_dir = 'DataFiles/'\n",
    "dfs = pd.read_csv(data_dir + 'NCAATourneySeeds.csv')\n",
    "dft = pd.read_csv(data_dir + 'NCAATourneyDetailedResults.csv')\n",
    "dfa = dft#pd.concat([df_tour,df_reg],axis=1)\n",
    "min_season = dfa.Season.min()\n",
    "dfs = dfs[dfs.Season>=min_season]\n",
    "model_type = 'gbm'"
   ]
  },
  {
   "cell_type": "code",
   "execution_count": null,
   "metadata": {},
   "outputs": [],
   "source": [
    "df_teams = bball_functions.team_stats(dfa.copy())\n",
    "df_train = bball_functions.build_data(dfa[['Season','WTeamID','LTeamID','WScore','LScore']].copy(),dfs.copy(),df_teams)"
   ]
  },
  {
   "cell_type": "code",
   "execution_count": null,
   "metadata": {},
   "outputs": [],
   "source": [
    "seed(12358)\n",
    "n_folds = 5\n",
    "kf = KFold(n_splits=n_folds, shuffle=True)\n",
    "all_models = []\n",
    "all_scores = []\n",
    "for i, (train, test) in enumerate(kf.split(df_train)):\n",
    "        print('Running Fold', i+1, \"/\", n_folds)\n",
    "        models = None\n",
    "        models, scores, score2s = bball_functions.bootstrap(df_train.iloc[train],mod_type=model_type)\n",
    "        predictions = np.vstack([m.predict(df_train.iloc[test,3:]) for m in models])\n",
    "        total_predictions = predictions.mean(axis=0)\n",
    "        total_predictions = np.clip(total_predictions, 0.02, 0.98)\n",
    "        score = log_loss((df_train.iloc[test,2]>0)+0, total_predictions,labels=[0,1])\n",
    "        all_scores.append(score)\n",
    "        print('Mean R2: ', np.mean(score2s))\n",
    "        print('Log loss: ', score)\n",
    "        all_models.extend(models)"
   ]
  },
  {
   "cell_type": "code",
   "execution_count": null,
   "metadata": {},
   "outputs": [],
   "source": [
    "seed(12358)\n",
    "print('2014 Log Loss: ',bball_functions.year_score(dfa.copy(),dfs.copy(),2014,mod_type=model_type))\n",
    "print('2015 Log Loss: ',bball_functions.year_score(dfa.copy(),dfs.copy(),2015,mod_type=model_type))\n",
    "print('2016 Log Loss: ',bball_functions.year_score(dfa.copy(),dfs.copy(),2016,mod_type=model_type))\n",
    "print('2017 Log Loss: ',bball_functions.year_score(dfa.copy(),dfs.copy(),2017,mod_type=model_type))"
   ]
  },
  {
   "cell_type": "code",
   "execution_count": null,
   "metadata": {},
   "outputs": [],
   "source": [
    "df_sample_sub = pd.read_csv(data_dir + 'SampleSubmissionStage1.csv')\n",
    "df_teams_fin = bball_functions.team_stats(dfa.copy())\n",
    "output = bball_functions.generate_output_df(df_sample_sub.copy(),dfs.copy(),df_teams_fin.copy())"
   ]
  },
  {
   "cell_type": "code",
   "execution_count": null,
   "metadata": {},
   "outputs": [],
   "source": [
    "seed(12358)\n",
    "bball_functions.build_data(dfa[['Season','WTeamID','LTeamID','WScore','LScore']].copy(),dfs.copy(),df_teams_fin)\n",
    "final_models, final_scores, final_score2s = bball_functions.bootstrap(df_train,mod_type=model_type)\n",
    "final_predictions = np.vstack([m.predict(output.iloc[:,3:]) for m in models])\n",
    "final_total_predictions = final_predictions.mean(axis=0)\n",
    "final_total_predictions = np.clip(final_total_predictions, 0.025, 0.975)\n",
    "df_sample_sub['Pred'] = final_total_predictions"
   ]
  },
  {
   "cell_type": "code",
   "execution_count": null,
   "metadata": {},
   "outputs": [],
   "source": [
    "df_sample_sub.to_csv('bootstrap_gbm_1.csv', index=False)"
   ]
  }
 ],
 "metadata": {
  "kernelspec": {
   "display_name": "Python 3",
   "language": "python",
   "name": "python3"
  },
  "language_info": {
   "codemirror_mode": {
    "name": "ipython",
    "version": 3
   },
   "file_extension": ".py",
   "mimetype": "text/x-python",
   "name": "python",
   "nbconvert_exporter": "python",
   "pygments_lexer": "ipython3",
   "version": "3.6.4"
  }
 },
 "nbformat": 4,
 "nbformat_minor": 2
}
