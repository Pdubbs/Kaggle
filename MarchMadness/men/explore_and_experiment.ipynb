{
 "cells": [
  {
   "cell_type": "code",
   "execution_count": null,
   "metadata": {
    "collapsed": false
   },
   "outputs": [],
   "source": [
    "import numpy as np\n",
    "import pandas as pd\n",
    "from sklearn.linear_model import LogisticRegression\n",
    "import matplotlib.pyplot as plt\n",
    "from sklearn.utils import shuffle\n",
    "from sklearn.model_selection import GridSearchCV\n",
    "from subprocess import check_output\n",
    "import re"
   ]
  },
  {
   "cell_type": "code",
   "execution_count": null,
   "metadata": {
    "collapsed": false
   },
   "outputs": [],
   "source": [
    "data_dir = 'DataFiles/'\n",
    "df_seeds = pd.read_csv(data_dir + 'NCAATourneySeeds.csv')\n",
    "df_tour = pd.read_csv(data_dir + 'NCAATourneyDetailedResults.csv')\n",
    "df_tour.shape"
   ]
  },
  {
   "cell_type": "code",
   "execution_count": null,
   "metadata": {
    "collapsed": false
   },
   "outputs": [],
   "source": [
    "w_keeps =  [col for col in df_tour.columns if 'W' in col]\n",
    "l_keeps =  [col for col in df_tour.columns if 'L' in col]\n",
    "new_names = [name[1:] for name in w_keeps]\n",
    "#new_names == [name[1:] for name in l_keeps] #check that sets are identical\n",
    "w_tour = df_tour.copy()\n",
    "w_tour = w_tour[w_keeps]\n",
    "w_tour.columns = new_names\n",
    "l_tour = df_tour.copy()\n",
    "l_tour = l_tour[l_keeps]\n",
    "l_tour.columns = new_names\n",
    "stack_tour = pd.concat([w_tour,l_tour])\n",
    "team_means = stack_tour.groupby(['TeamID'], as_index=False).mean()\n",
    "team_means.head()"
   ]
  },
  {
   "cell_type": "code",
   "execution_count": null,
   "metadata": {
    "collapsed": false
   },
   "outputs": [],
   "source": [
    "def seed_to_int(seed):\n",
    "    s_int = int(seed[1:3])\n",
    "    return s_int\n",
    "df_seeds['seed_int'] = df_seeds.Seed.apply(seed_to_int)\n",
    "df_seeds.drop(labels=['Seed'], inplace=True, axis=1) # This is the string label\n",
    "df_seeds.head()"
   ]
  },
  {
   "cell_type": "code",
   "execution_count": null,
   "metadata": {
    "collapsed": false
   },
   "outputs": [],
   "source": [
    "df_min = df_tour[['Season','WTeamID','LTeamID']]\n",
    "df_min.head()"
   ]
  },
  {
   "cell_type": "code",
   "execution_count": null,
   "metadata": {
    "collapsed": false
   },
   "outputs": [],
   "source": [
    "df_wins = df_seeds.copy()\n",
    "df_wins = pd.merge(left=df_wins,right=team_means,how='left',on=['TeamID'])\n",
    "df_wins.drop(labels=['Score'],inplace=True,axis=1) #there are teams where we have Non team_mean\n",
    "df_w_names = ['W'+i for i in df_wins.columns]\n",
    "df_wins.columns = df_w_names\n",
    "df_losses = df_seeds.copy()\n",
    "df_losses = pd.merge(left=df_losses,right=team_means,how='left',on=['TeamID'])\n",
    "df_losses.drop(labels=['Score'],inplace=True,axis=1)\n",
    "df_l_names = ['L'+i for i in df_losses.columns]\n",
    "df_losses.columns = df_l_names\n",
    "df_dummy = pd.merge(left=df_min, right=df_wins, how='left', left_on=['Season', 'WTeamID'],right_on=['WSeason','WTeamID'])\n",
    "df_concat = pd.merge(left=df_dummy, right=df_losses, left_on=['Season', 'LTeamID'],right_on=['LSeason','LTeamID'])\n",
    "df_concat['SeedDiff'] = df_concat.Wseed_int - df_concat.Lseed_int\n",
    "for i in new_names[3:]:\n",
    "    df_concat[i+'Diff'] = df_concat['W'+i]-df_concat['L'+i]\n",
    "    df_concat.drop(labels=['W'+i,'L'+i],inplace=True,axis=1)\n",
    "df_concat.drop(labels=['Season','WSeason','LSeason','Wseed_int','Lseed_int'],inplace=True,axis=1)\n",
    "df_concat.head()\n"
   ]
  },
  {
   "cell_type": "code",
   "execution_count": null,
   "metadata": {
    "collapsed": false
   },
   "outputs": [],
   "source": [
    "df_win_pred = df_concat.copy()\n",
    "df_win_pred.drop(labels=['LTeamID'],inplace=True,axis=1)\n",
    "df_win_pred = df_win_pred.rename(columns={'WTeamID':'TeamID'})\n",
    "df_win_pred['result'] = 1\n",
    "\n",
    "df_loss_pred = df_concat.copy()\n",
    "df_loss_pred.drop(labels=['WTeamID'],inplace=True,axis=1)\n",
    "df_loss_pred = df_loss_pred.rename(columns={'LTeamID':'TeamID'})\n",
    "df_loss_pred.iloc[:,1:] = -df_loss_pred.iloc[:,1:]\n",
    "df_loss_pred['result'] = 0\n",
    "\n",
    "df_predictions = pd.concat((df_win_pred, df_loss_pred))\n",
    "df_predictions.drop(labels=['TeamID'], inplace=True, axis=1)\n",
    "df_loss_pred.head()"
   ]
  },
  {
   "cell_type": "code",
   "execution_count": null,
   "metadata": {
    "collapsed": false
   },
   "outputs": [],
   "source": [
    "df_predictions.shape"
   ]
  },
  {
   "cell_type": "code",
   "execution_count": null,
   "metadata": {
    "collapsed": false
   },
   "outputs": [],
   "source": [
    "X_train = df_predictions.copy()\n",
    "X_train.drop(labels=['result'],inplace=True,axis=1)\n",
    "y_train = df_predictions.result.values\n",
    "X_train, y_train = shuffle(X_train, y_train)"
   ]
  },
  {
   "cell_type": "code",
   "execution_count": null,
   "metadata": {
    "collapsed": false
   },
   "outputs": [],
   "source": [
    "logreg = LogisticRegression()\n",
    "params = {'C': np.logspace(start=-5, stop=3, num=9)}\n",
    "clf = GridSearchCV(logreg, params, scoring='neg_log_loss', refit=True)\n",
    "clf.fit(X_train, y_train)\n",
    "print('Best log_loss: {:.4}, with best C: {}'.format(clf.best_score_, clf.best_params_['C']))"
   ]
  },
  {
   "cell_type": "code",
   "execution_count": null,
   "metadata": {
    "collapsed": false
   },
   "outputs": [],
   "source": [
    "df_sample_sub = pd.read_csv(data_dir + 'SampleSubmissionStage1.csv')\n",
    "n_test_games = len(df_sample_sub)\n",
    "\n",
    "def get_year_t1_t2(ID):\n",
    "    \"\"\"Return a tuple with ints `year`, `team1` and `team2`.\"\"\"\n",
    "    return (int(x) for x in ID.split('_'))"
   ]
  },
  {
   "cell_type": "code",
   "execution_count": null,
   "metadata": {
    "collapsed": false
   },
   "outputs": [],
   "source": [
    "df_sample_sub.head()\n",
    "df_concat.head()"
   ]
  },
  {
   "cell_type": "code",
   "execution_count": null,
   "metadata": {
    "collapsed": false
   },
   "outputs": [],
   "source": [
    "X_test = np.zeros(shape=(n_test_games, X_train.shape[1]))\n",
    "for ii, row in df_sample_sub.iterrows():\n",
    "    year, t1, t2 = get_year_t1_t2(row.ID)\n",
    "    t1_seed = df_seeds[(df_seeds.TeamID == t1) & (df_seeds.Season == year)].seed_int.values[0]\n",
    "    t2_seed = df_seeds[(df_seeds.TeamID == t2) & (df_seeds.Season == year)].seed_int.values[0]\n",
    "    diff_seed = t1_seed - t2_seed\n",
    "    X_test[ii, 0] = diff_seed\n",
    "    i = 1\n",
    "    for name in new_names[3:]:\n",
    "        val1 = float(team_means.loc[(team_means.TeamID == t1),name])\n",
    "        val2 = float(team_means.loc[(team_means.TeamID == t2),name])\n",
    "        X_test[ii,i] = val1-val2\n",
    "        i +=1"
   ]
  },
  {
   "cell_type": "code",
   "execution_count": null,
   "metadata": {
    "collapsed": false
   },
   "outputs": [],
   "source": [
    "preds = clf.predict_proba(X_test)[:,1]\n",
    "\n",
    "clipped_preds = np.clip(preds, 0.05, 0.95)\n",
    "df_sample_sub.Pred = clipped_preds\n",
    "df_sample_sub.head()"
   ]
  },
  {
   "cell_type": "code",
   "execution_count": null,
   "metadata": {
    "collapsed": true
   },
   "outputs": [],
   "source": [
    "df_sample_sub.to_csv('logreg_extra_vars.csv', index=False)"
   ]
  },
  {
   "cell_type": "code",
   "execution_count": null,
   "metadata": {
    "collapsed": false
   },
   "outputs": [],
   "source": [
    "import keras\n",
    "from keras.layers import Dense\n",
    "from keras import Sequential\n",
    "from keras.callbacks import EarlyStopping\n",
    "from sklearn.model_selection import StratifiedKFold\n",
    "from sklearn.metrics import log_loss"
   ]
  },
  {
   "cell_type": "code",
   "execution_count": null,
   "metadata": {
    "collapsed": false
   },
   "outputs": [],
   "source": [
    "y_class = pd.DataFrame()\n",
    "y_class['win'] = y_train\n",
    "y_class['lose'] = 1-y_train\n",
    "early_stopping_monitor = EarlyStopping(patience=3)\n",
    "\n",
    "def create_model():\n",
    "    model = Sequential()\n",
    "    model.add(Dense(30, activation='relu', input_shape = (X_train.shape[1],)))\n",
    "    model.add(Dense(50, activation='relu', input_shape = (X_train.shape[1],)))\n",
    "    model.add(Dense(30, activation='relu', input_shape = (X_train.shape[1],)))\n",
    "    model.add(Dense(2, activation='softmax'))\n",
    "    model.compile(optimizer='adam', \n",
    "              loss='categorical_crossentropy')\n",
    "    return(model)\n",
    "\n",
    "\n",
    "n_folds = 10\n",
    "skf = StratifiedKFold(n_splits=n_folds, shuffle=True)\n",
    "models = []\n",
    "scores = []\n",
    "for i, (train, test) in enumerate(skf.split(X_train,y_class.win)):\n",
    "        print('Running Fold', i+1, \"/\", n_folds)\n",
    "        model = None\n",
    "        model = create_model()\n",
    "        model.fit(X_train.iloc[train,],y_class.iloc[train,],\n",
    "                  epochs=20,\n",
    "                  validation_data=(X_train.iloc[test,],y_class.iloc[test,]), \n",
    "                  callbacks=[early_stopping_monitor],\n",
    "                  verbose=0)\n",
    "        predictions_valid = model.predict(X_train.iloc[test,].astype('float32'), verbose=2)\n",
    "        score = log_loss(y_class.iloc[test,], predictions_valid)\n",
    "        scores.append(score)\n",
    "        print('Log loss: ', score)\n",
    "        models.append(model)\n",
    "print('Average log loss: ',np.mean(scores))"
   ]
  },
  {
   "cell_type": "code",
   "execution_count": null,
   "metadata": {
    "collapsed": false
   },
   "outputs": [],
   "source": [
    "pred_list = []\n",
    "for i,model in enumerate(models):\n",
    "    pred_list.append(models[i].predict(X_test)[:,0])\n",
    "pred = np.mean(pred_list,0)\n",
    "clipped_pred = np.clip(pred, 0.05, 0.95)\n",
    "df_sample_sub.Pred = clipped_pred\n",
    "df_sample_sub.head()"
   ]
  },
  {
   "cell_type": "code",
   "execution_count": null,
   "metadata": {
    "collapsed": true
   },
   "outputs": [],
   "source": [
    "df_sample_sub.to_csv('nn_extra_vars.csv', index=False)"
   ]
  }
 ],
 "metadata": {
  "anaconda-cloud": {},
  "kernelspec": {
   "display_name": "Python [conda env:py3]",
   "language": "python",
   "name": "conda-env-py3-py"
  },
  "language_info": {
   "codemirror_mode": {
    "name": "ipython",
    "version": 3
   },
   "file_extension": ".py",
   "mimetype": "text/x-python",
   "name": "python",
   "nbconvert_exporter": "python",
   "pygments_lexer": "ipython3",
   "version": "3.5.4"
  }
 },
 "nbformat": 4,
 "nbformat_minor": 1
}
