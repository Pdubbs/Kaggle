{
 "cells": [
  {
   "cell_type": "code",
   "execution_count": 6,
   "id": "227ead8e-7a86-4d95-88d6-cc49853d51aa",
   "metadata": {},
   "outputs": [],
   "source": [
    "import pandas as pd\n",
    "import os"
   ]
  },
  {
   "cell_type": "code",
   "execution_count": 7,
   "id": "9cc8754a-86bf-42af-8247-ec3d17cd0533",
   "metadata": {},
   "outputs": [],
   "source": [
    "from plotnine import *"
   ]
  },
  {
   "cell_type": "code",
   "execution_count": 8,
   "id": "e696fc22-db83-4c25-94dd-96f7bdd66132",
   "metadata": {},
   "outputs": [
    {
     "data": {
      "text/plain": [
       "'/Users/paulwyatt/Code/Kaggle/Playground/202308s3e21'"
      ]
     },
     "execution_count": 8,
     "metadata": {},
     "output_type": "execute_result"
    }
   ],
   "source": [
    "os.getcwd()"
   ]
  },
  {
   "cell_type": "code",
   "execution_count": 22,
   "id": "342dc44a-8207-451d-992b-9aa6734fe33a",
   "metadata": {},
   "outputs": [],
   "source": [
    "base_sub = pd.read_csv('sample_submission.csv', index_col=0)"
   ]
  },
  {
   "cell_type": "code",
   "execution_count": 23,
   "id": "3cd03fd2-c01f-466c-a13f-c3b90687b6cf",
   "metadata": {},
   "outputs": [
    {
     "data": {
      "text/html": [
       "<div>\n",
       "<style scoped>\n",
       "    .dataframe tbody tr th:only-of-type {\n",
       "        vertical-align: middle;\n",
       "    }\n",
       "\n",
       "    .dataframe tbody tr th {\n",
       "        vertical-align: top;\n",
       "    }\n",
       "\n",
       "    .dataframe thead th {\n",
       "        text-align: right;\n",
       "    }\n",
       "</style>\n",
       "<table border=\"1\" class=\"dataframe\">\n",
       "  <thead>\n",
       "    <tr style=\"text-align: right;\">\n",
       "      <th></th>\n",
       "      <th>target</th>\n",
       "      <th>O2_1</th>\n",
       "      <th>O2_2</th>\n",
       "      <th>O2_3</th>\n",
       "      <th>O2_4</th>\n",
       "      <th>O2_5</th>\n",
       "      <th>O2_6</th>\n",
       "      <th>O2_7</th>\n",
       "      <th>NH4_1</th>\n",
       "      <th>NH4_2</th>\n",
       "      <th>...</th>\n",
       "      <th>NO3_5</th>\n",
       "      <th>NO3_6</th>\n",
       "      <th>NO3_7</th>\n",
       "      <th>BOD5_1</th>\n",
       "      <th>BOD5_2</th>\n",
       "      <th>BOD5_3</th>\n",
       "      <th>BOD5_4</th>\n",
       "      <th>BOD5_5</th>\n",
       "      <th>BOD5_6</th>\n",
       "      <th>BOD5_7</th>\n",
       "    </tr>\n",
       "    <tr>\n",
       "      <th>id</th>\n",
       "      <th></th>\n",
       "      <th></th>\n",
       "      <th></th>\n",
       "      <th></th>\n",
       "      <th></th>\n",
       "      <th></th>\n",
       "      <th></th>\n",
       "      <th></th>\n",
       "      <th></th>\n",
       "      <th></th>\n",
       "      <th></th>\n",
       "      <th></th>\n",
       "      <th></th>\n",
       "      <th></th>\n",
       "      <th></th>\n",
       "      <th></th>\n",
       "      <th></th>\n",
       "      <th></th>\n",
       "      <th></th>\n",
       "      <th></th>\n",
       "      <th></th>\n",
       "    </tr>\n",
       "  </thead>\n",
       "  <tbody>\n",
       "    <tr>\n",
       "      <th>0</th>\n",
       "      <td>8.59</td>\n",
       "      <td>7.500</td>\n",
       "      <td>9.00</td>\n",
       "      <td>9.545</td>\n",
       "      <td>9.265</td>\n",
       "      <td>8.110</td>\n",
       "      <td>8.43</td>\n",
       "      <td>7.15</td>\n",
       "      <td>0.180</td>\n",
       "      <td>0.200</td>\n",
       "      <td>...</td>\n",
       "      <td>4.95</td>\n",
       "      <td>1.730</td>\n",
       "      <td>1.800</td>\n",
       "      <td>4.800</td>\n",
       "      <td>3.15</td>\n",
       "      <td>10.665</td>\n",
       "      <td>10.465</td>\n",
       "      <td>16.645</td>\n",
       "      <td>5.75</td>\n",
       "      <td>10.37</td>\n",
       "    </tr>\n",
       "    <tr>\n",
       "      <th>1</th>\n",
       "      <td>9.10</td>\n",
       "      <td>13.533</td>\n",
       "      <td>40.90</td>\n",
       "      <td>8.770</td>\n",
       "      <td>9.265</td>\n",
       "      <td>6.015</td>\n",
       "      <td>10.07</td>\n",
       "      <td>7.15</td>\n",
       "      <td>1.107</td>\n",
       "      <td>1.027</td>\n",
       "      <td>...</td>\n",
       "      <td>20.05</td>\n",
       "      <td>9.530</td>\n",
       "      <td>7.695</td>\n",
       "      <td>4.550</td>\n",
       "      <td>6.95</td>\n",
       "      <td>2.040</td>\n",
       "      <td>5.200</td>\n",
       "      <td>5.725</td>\n",
       "      <td>2.95</td>\n",
       "      <td>2.23</td>\n",
       "    </tr>\n",
       "    <tr>\n",
       "      <th>2</th>\n",
       "      <td>8.21</td>\n",
       "      <td>3.710</td>\n",
       "      <td>5.42</td>\n",
       "      <td>8.770</td>\n",
       "      <td>9.265</td>\n",
       "      <td>4.550</td>\n",
       "      <td>10.07</td>\n",
       "      <td>7.15</td>\n",
       "      <td>0.020</td>\n",
       "      <td>0.020</td>\n",
       "      <td>...</td>\n",
       "      <td>4.58</td>\n",
       "      <td>3.025</td>\n",
       "      <td>3.960</td>\n",
       "      <td>4.935</td>\n",
       "      <td>4.95</td>\n",
       "      <td>4.725</td>\n",
       "      <td>6.075</td>\n",
       "      <td>6.750</td>\n",
       "      <td>3.50</td>\n",
       "      <td>3.17</td>\n",
       "    </tr>\n",
       "    <tr>\n",
       "      <th>3</th>\n",
       "      <td>8.39</td>\n",
       "      <td>8.700</td>\n",
       "      <td>8.10</td>\n",
       "      <td>9.500</td>\n",
       "      <td>9.200</td>\n",
       "      <td>5.200</td>\n",
       "      <td>8.67</td>\n",
       "      <td>6.67</td>\n",
       "      <td>0.280</td>\n",
       "      <td>0.270</td>\n",
       "      <td>...</td>\n",
       "      <td>8.45</td>\n",
       "      <td>2.070</td>\n",
       "      <td>1.730</td>\n",
       "      <td>6.300</td>\n",
       "      <td>4.70</td>\n",
       "      <td>3.500</td>\n",
       "      <td>6.200</td>\n",
       "      <td>8.670</td>\n",
       "      <td>2.90</td>\n",
       "      <td>7.37</td>\n",
       "    </tr>\n",
       "    <tr>\n",
       "      <th>4</th>\n",
       "      <td>8.07</td>\n",
       "      <td>8.050</td>\n",
       "      <td>8.65</td>\n",
       "      <td>7.960</td>\n",
       "      <td>9.265</td>\n",
       "      <td>3.290</td>\n",
       "      <td>10.07</td>\n",
       "      <td>7.15</td>\n",
       "      <td>0.360</td>\n",
       "      <td>0.435</td>\n",
       "      <td>...</td>\n",
       "      <td>2.02</td>\n",
       "      <td>1.730</td>\n",
       "      <td>0.760</td>\n",
       "      <td>4.800</td>\n",
       "      <td>4.97</td>\n",
       "      <td>3.950</td>\n",
       "      <td>2.800</td>\n",
       "      <td>8.400</td>\n",
       "      <td>3.50</td>\n",
       "      <td>3.90</td>\n",
       "    </tr>\n",
       "  </tbody>\n",
       "</table>\n",
       "<p>5 rows × 36 columns</p>\n",
       "</div>"
      ],
      "text/plain": [
       "    target    O2_1   O2_2   O2_3   O2_4   O2_5   O2_6  O2_7  NH4_1  NH4_2  \\\n",
       "id                                                                          \n",
       "0     8.59   7.500   9.00  9.545  9.265  8.110   8.43  7.15  0.180  0.200   \n",
       "1     9.10  13.533  40.90  8.770  9.265  6.015  10.07  7.15  1.107  1.027   \n",
       "2     8.21   3.710   5.42  8.770  9.265  4.550  10.07  7.15  0.020  0.020   \n",
       "3     8.39   8.700   8.10  9.500  9.200  5.200   8.67  6.67  0.280  0.270   \n",
       "4     8.07   8.050   8.65  7.960  9.265  3.290  10.07  7.15  0.360  0.435   \n",
       "\n",
       "    ...  NO3_5  NO3_6  NO3_7  BOD5_1  BOD5_2  BOD5_3  BOD5_4  BOD5_5  BOD5_6  \\\n",
       "id  ...                                                                        \n",
       "0   ...   4.95  1.730  1.800   4.800    3.15  10.665  10.465  16.645    5.75   \n",
       "1   ...  20.05  9.530  7.695   4.550    6.95   2.040   5.200   5.725    2.95   \n",
       "2   ...   4.58  3.025  3.960   4.935    4.95   4.725   6.075   6.750    3.50   \n",
       "3   ...   8.45  2.070  1.730   6.300    4.70   3.500   6.200   8.670    2.90   \n",
       "4   ...   2.02  1.730  0.760   4.800    4.97   3.950   2.800   8.400    3.50   \n",
       "\n",
       "    BOD5_7  \n",
       "id          \n",
       "0    10.37  \n",
       "1     2.23  \n",
       "2     3.17  \n",
       "3     7.37  \n",
       "4     3.90  \n",
       "\n",
       "[5 rows x 36 columns]"
      ]
     },
     "execution_count": 23,
     "metadata": {},
     "output_type": "execute_result"
    }
   ],
   "source": [
    "base_sub.head()"
   ]
  },
  {
   "cell_type": "code",
   "execution_count": 24,
   "id": "7672eacd-24bc-45a0-bea3-2d3fc4f8eaa7",
   "metadata": {},
   "outputs": [],
   "source": [
    "def write_submission(sub, name='submission.csv'):\n",
    "    sub.to_csv(name)"
   ]
  },
  {
   "cell_type": "code",
   "execution_count": 25,
   "id": "e282dbd8-4153-4402-a188-1136011ae78d",
   "metadata": {},
   "outputs": [],
   "source": [
    "write_submission(base_sub)"
   ]
  },
  {
   "cell_type": "code",
   "execution_count": 28,
   "id": "639869e4-8fa1-4f34-8213-16e60eccd527",
   "metadata": {},
   "outputs": [],
   "source": [
    "written_sub = pd.read_csv('submission.csv', index_col=0)"
   ]
  },
  {
   "cell_type": "code",
   "execution_count": 31,
   "id": "d7690fe7-c6d8-4755-8448-c1d17aae72d4",
   "metadata": {},
   "outputs": [
    {
     "data": {
      "text/plain": [
       "True"
      ]
     },
     "execution_count": 31,
     "metadata": {},
     "output_type": "execute_result"
    }
   ],
   "source": [
    "written_sub.equals(base_sub)"
   ]
  },
  {
   "cell_type": "code",
   "execution_count": null,
   "id": "54a6d2aa-8478-48f1-90d2-fb9a757a285f",
   "metadata": {},
   "outputs": [],
   "source": []
  }
 ],
 "metadata": {
  "kernelspec": {
   "display_name": "Python 3 (ipykernel)",
   "language": "python",
   "name": "python3"
  },
  "language_info": {
   "codemirror_mode": {
    "name": "ipython",
    "version": 3
   },
   "file_extension": ".py",
   "mimetype": "text/x-python",
   "name": "python",
   "nbconvert_exporter": "python",
   "pygments_lexer": "ipython3",
   "version": "3.11.5"
  }
 },
 "nbformat": 4,
 "nbformat_minor": 5
}
